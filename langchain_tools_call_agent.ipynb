{
 "cells": [
  {
   "cell_type": "markdown",
   "metadata": {},
   "source": [
    "通用配置"
   ]
  },
  {
   "cell_type": "code",
   "execution_count": 1,
   "metadata": {},
   "outputs": [],
   "source": [
    "# 读入配置文件\n",
    "import yaml\n",
    "\n",
    "with open('config.yaml', 'r') as f:\n",
    "    config = yaml.safe_load(f)\n",
    "\n",
    "api_key = config['api_key']\n",
    "base_url = config['base_url']\n",
    "model = config['model']\n",
    "\n",
    "# 定义一个工具\n",
    "tools_description = [{\n",
    "    \"type\": \"function\",\n",
    "    \"function\": {\n",
    "        \"name\": \"python_repl\",\n",
    "        \"description\": \"A Python shell. Use this to execute python commands. Input should be a valid python command. If you want to see the output of a value, you should print it out with `print(...)`.\",\n",
    "        \"parameters\": {\n",
    "            \"type\": \"object\",\n",
    "            \"properties\": {\n",
    "                \"tool_input\": {\n",
    "                    \"description\": \"Python executable code\",\n",
    "                    \"type\": \"str\"\n",
    "                }\n",
    "            },\n",
    "            \"required\": [\n",
    "                \"tool_input\"\n",
    "            ]\n",
    "        }\n",
    "    }\n",
    "}]"
   ]
  },
  {
   "cell_type": "markdown",
   "metadata": {},
   "source": [
    "调用实验"
   ]
  },
  {
   "cell_type": "code",
   "execution_count": 2,
   "metadata": {},
   "outputs": [
    {
     "data": {
      "text/plain": [
       "{'content': None,\n",
       " 'refusal': None,\n",
       " 'role': 'assistant',\n",
       " 'function_call': None,\n",
       " 'tool_calls': [{'id': 'call_20240903174401191b423d051f4be4',\n",
       "   'function': {'arguments': '{\"tool_input\": \"def is_prime(n):\\\\n    if n <= 1:\\\\n        return False\\\\n    for i in range(2, int(n**0.5) + 1):\\\\n        if n % i == 0:\\\\n            return False\\\\n    return True\\\\n\\\\nprimes = [n for n in range(2, 31) if is_prime(n)]\\\\nprint(primes)\"}',\n",
       "    'name': 'python_repl'},\n",
       "   'type': 'function',\n",
       "   'index': 0}]}"
      ]
     },
     "execution_count": 2,
     "metadata": {},
     "output_type": "execute_result"
    }
   ],
   "source": [
    "# 使用openai sdk\n",
    "from openai import OpenAI\n",
    "\n",
    "client = OpenAI(\n",
    "    api_key=api_key,\n",
    "    base_url=base_url\n",
    ")\n",
    "\n",
    "user_prompt = \"30以内质数有哪些\"\n",
    "\n",
    "completion = client.chat.completions.create(\n",
    "    model=model,  \n",
    "    messages=[      \n",
    "        {\"role\": \"user\", \"content\": user_prompt}\n",
    "    ],\n",
    "    temperature=0.1,\n",
    "    tools=tools_description,\n",
    "    tool_choice=\"auto\"\n",
    ") \n",
    "\n",
    "completion.choices[0].message.model_dump()"
   ]
  },
  {
   "cell_type": "code",
   "execution_count": 4,
   "metadata": {},
   "outputs": [
    {
     "data": {
      "text/plain": [
       "[{'name': 'python_repl_ast',\n",
       "  'args': {'query': 'def is_prime(n):\\n    if n <= 1:\\n        return False\\n    for i in range(2, int(n**0.5) + 1):\\n        if n % i == 0:\\n            return False\\n    return True\\n\\nprimes = [n for n in range(2, 31) if is_prime(n)]\\nprimes'},\n",
       "  'id': 'call_20240903174424b3048c4afbff481f',\n",
       "  'type': 'tool_call'}]"
      ]
     },
     "execution_count": 4,
     "metadata": {},
     "output_type": "execute_result"
    }
   ],
   "source": [
    "# Langchain SDK\n",
    "from langchain_openai import ChatOpenAI\n",
    "from langchain_experimental.tools.python.tool import PythonAstREPLTool\n",
    "\n",
    "llm = ChatOpenAI(\n",
    "    temperature=0.1,\n",
    "    model=model,\n",
    "    openai_api_key=api_key,\n",
    "    openai_api_base=base_url\n",
    ")\n",
    "\n",
    "python_repl = PythonAstREPLTool()\n",
    "tools = [python_repl]\n",
    "\n",
    "llm_with_tools = llm.bind_tools(tools)\n",
    "\n",
    "user_prompt = \"编写python代码，根据执行结果回答30以内质数有哪些\"\n",
    "\n",
    "ai_msg = llm_with_tools.invoke(user_prompt)\n",
    "ai_msg.tool_calls\n"
   ]
  },
  {
   "cell_type": "code",
   "execution_count": 5,
   "metadata": {},
   "outputs": [
    {
     "data": {
      "text/plain": [
       "{'title': 'python_repl_ast',\n",
       " 'description': 'A Python shell. Use this to execute python commands. Input should be a valid python command. When using this tool, sometimes output is abbreviated - make sure it does not look abbreviated before using it in your answer.',\n",
       " 'type': 'object',\n",
       " 'properties': {'query': {'title': 'Query',\n",
       "   'description': 'code snippet to run',\n",
       "   'type': 'string'}},\n",
       " 'required': ['query']}"
      ]
     },
     "execution_count": 5,
     "metadata": {},
     "output_type": "execute_result"
    }
   ],
   "source": [
    "# 查看langchain工具对角的tool_call_schema\n",
    "python_repl.tool_call_schema.schema()"
   ]
  },
  {
   "cell_type": "markdown",
   "metadata": {},
   "source": [
    "react agent"
   ]
  },
  {
   "cell_type": "code",
   "execution_count": 6,
   "metadata": {},
   "outputs": [],
   "source": [
    "# hwchase17/react - Langchain\n",
    "\n",
    "from langchain_core.prompts import PromptTemplate\n",
    "\n",
    "prompt = \"\"\"Answer the following questions as best you can. You have access to the following tools:\n",
    "\n",
    "{tools}\n",
    "\n",
    "Use the following format:\n",
    "\n",
    "Question: the input question you must answer\n",
    "Thought: you should always think about what to do\n",
    "Action: the action to take, should be one of [{tool_names}]\n",
    "Action Input: the input to the action\n",
    "Observation: the result of the action\n",
    "... (this Thought/Action/Action Input/Observation can repeat N times)\n",
    "Thought: I now know the final answer\n",
    "Final Answer: the final answer to the original input question\n",
    "\n",
    "Begin!\n",
    "\n",
    "Question: {input}\n",
    "Thought:{agent_scratchpad}\"\"\"\n",
    "\n",
    "prompt_template = PromptTemplate(template=prompt)"
   ]
  },
  {
   "cell_type": "code",
   "execution_count": 7,
   "metadata": {},
   "outputs": [
    {
     "name": "stdout",
     "output_type": "stream",
     "text": [
      "\n",
      "\n",
      "\u001b[1m> Entering new AgentExecutor chain...\u001b[0m\n",
      "\u001b[32;1m\u001b[1;3mThe question is asking for the result of the simple arithmetic operation 1+1. This can be directly calculated.\n",
      "\n",
      "Action: python_repl_ast\n",
      "Action Input: 1 + 1\n",
      "Observation\u001b[0m\u001b[36;1m\u001b[1;3mNameError: name 'Observation' is not defined\u001b[0m\u001b[32;1m\u001b[1;3mIt seems there was an error in the format of my response. Let's correct that and try the calculation again.\n",
      "\n",
      "Action: python_repl_ast\n",
      "Action Input: 1 + 1\n",
      "Observation\u001b[0m\u001b[36;1m\u001b[1;3mNameError: name 'Observation' is not defined\u001b[0m\u001b[32;1m\u001b[1;3mIt appears there's a misunderstanding in the format I should use. I'll correct this and retry the calculation.\n",
      "\n",
      "Action: python_repl_ast\n",
      "Action Input: 1 + 1\n",
      "Observation\u001b[0m\u001b[36;1m\u001b[1;3mNameError: name 'Observation' is not defined\u001b[0m\u001b[32;1m\u001b[1;3mI apologize for the repeated mistake. Let's try this again with the correct format.\n",
      "\n",
      "Action: python_repl_ast\n",
      "Action Input: 1 + 1\n",
      "Observation\u001b[0m\u001b[36;1m\u001b[1;3mNameError: name 'Observation' is not defined\u001b[0m\u001b[32;1m\u001b[1;3mI apologize for the confusion earlier. Let's try to execute the calculation again with the correct format.\n",
      "\n",
      "Action: python_repl_ast\n",
      "Action Input: 1 + 1\n",
      "Observation\u001b[0m\u001b[36;1m\u001b[1;3mNameError: name 'Observation' is not defined\u001b[0m\u001b[32;1m\u001b[1;3mI apologize for the repeated errors. It seems there is a misunderstanding in how to properly use the tools provided. Let's attempt to correct this and perform the calculation again.\n",
      "\n",
      "Action: python_repl_ast\n",
      "Action Input: 1 + 1\n",
      "Observation\u001b[0m\u001b[36;1m\u001b[1;3mNameError: name 'Observation' is not defined\u001b[0m\u001b[32;1m\u001b[1;3mI apologize for the repeated errors. It seems there is a technical issue with the tool interface. However, I can confidently answer this question based on basic arithmetic knowledge.\n",
      "\n",
      "Final Answer: 1 + 1 = 2\u001b[0m\n",
      "\n",
      "\u001b[1m> Finished chain.\u001b[0m\n"
     ]
    }
   ],
   "source": [
    "from langchain.agents import AgentExecutor, create_react_agent\n",
    "\n",
    "agent = create_react_agent(llm, tools, prompt_template)\n",
    "agent_executor = AgentExecutor(agent=agent, tools=tools, verbose=True)\n",
    "\n",
    "user_prompt = \"1+1=？\"\n",
    "\n",
    "result = agent_executor.invoke({\"input\":user_prompt})"
   ]
  },
  {
   "cell_type": "markdown",
   "metadata": {},
   "source": [
    "tool calling agent"
   ]
  },
  {
   "cell_type": "code",
   "execution_count": 19,
   "metadata": {},
   "outputs": [],
   "source": [
    "from langchain_core.prompts import ChatPromptTemplate, MessagesPlaceholder\n",
    "from langchain_core.messages import AIMessage, HumanMessage, SystemMessage\n",
    "\n",
    "prompt_template = ChatPromptTemplate.from_messages(\n",
    "    [\n",
    "        SystemMessage(content='You are a helpful assistant'),\n",
    "        MessagesPlaceholder(\"chat_history\", optional=True),\n",
    "        (\"human\", \"{input}\"),\n",
    "        MessagesPlaceholder(\"agent_scratchpad\"),\n",
    "    ]\n",
    ")"
   ]
  },
  {
   "cell_type": "code",
   "execution_count": 17,
   "metadata": {},
   "outputs": [
    {
     "name": "stdout",
     "output_type": "stream",
     "text": [
      "\n",
      "\n",
      "\u001b[1m> Entering new AgentExecutor chain...\u001b[0m\n",
      "\u001b[32;1m\u001b[1;3m\n",
      "Invoking: `python_repl_ast` with `{'query': 'import datetime\\ndatetime.datetime.now()'}`\n",
      "\n",
      "\n",
      "\u001b[0m\u001b[36;1m\u001b[1;3m2024-09-03 17:49:55.208622\u001b[0m\u001b[32;1m\u001b[1;3m当前系统时间是2024年9月3日17点49分55秒。\u001b[0m\n",
      "\n",
      "\u001b[1m> Finished chain.\u001b[0m\n"
     ]
    }
   ],
   "source": [
    "from langchain.agents import AgentExecutor, create_tool_calling_agent\n",
    "\n",
    "agent = create_tool_calling_agent(llm, tools, prompt_template)\n",
    "agent_executor = AgentExecutor(agent=agent, tools=tools, verbose=True)\n",
    "\n",
    "user_prompt = \"当前系统时间是什么\"\n",
    "\n",
    "result = agent_executor.invoke({\"input\":user_prompt})"
   ]
  }
 ],
 "metadata": {
  "kernelspec": {
   "display_name": "Python 3",
   "language": "python",
   "name": "python3"
  },
  "language_info": {
   "codemirror_mode": {
    "name": "ipython",
    "version": 3
   },
   "file_extension": ".py",
   "mimetype": "text/x-python",
   "name": "python",
   "nbconvert_exporter": "python",
   "pygments_lexer": "ipython3",
   "version": "3.10.14"
  }
 },
 "nbformat": 4,
 "nbformat_minor": 2
}
