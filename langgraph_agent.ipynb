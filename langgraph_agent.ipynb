{
 "cells": [
  {
   "cell_type": "markdown",
   "metadata": {},
   "source": [
    "# 使用langgraph构建一个multi-agent"
   ]
  },
  {
   "cell_type": "code",
   "execution_count": 1,
   "metadata": {},
   "outputs": [],
   "source": [
    "from langchain_openai import ChatOpenAI\n",
    "\n",
    "# 读入配置文件，使用zhipuai glm-4-plus模型\n",
    "import yaml\n",
    "\n",
    "with open('config.yaml', 'r') as f:\n",
    "    config = yaml.safe_load(f)\n",
    "    config = config['zhipuai glm-4-plus']\n",
    "\n",
    "# 初始化模型\n",
    "llm = ChatOpenAI(\n",
    "    model=config['model'], \n",
    "    openai_api_key=config['api_key'],\n",
    "    openai_api_base=config['base_url'],\n",
    "    temperature=0.1\n",
    ")"
   ]
  },
  {
   "cell_type": "markdown",
   "metadata": {},
   "source": [
    "## Create Agent Supervisor\n",
    "\n",
    "It will use function calling to choose the next worker node OR finish processing."
   ]
  },
  {
   "cell_type": "markdown",
   "metadata": {},
   "source": [
    "### 定义提示词"
   ]
  },
  {
   "cell_type": "code",
   "execution_count": 2,
   "metadata": {},
   "outputs": [],
   "source": [
    "from langchain.prompts import load_prompt\n",
    "from langchain_core.prompts import ChatPromptTemplate\n",
    "\n",
    "members = ['DataMiner', 'Visualizer']\n",
    "options = ['FINISH'] + list(members)\n",
    "\n",
    "system_prompt = load_prompt(\"prompt_templates/supervisor.yaml\")\n",
    "\n",
    "supervisor_prompt = ChatPromptTemplate([\n",
    "    (\"system\", system_prompt.format(members=members)),\n",
    "    (\"placeholder\", \"{messages}\"),\n",
    "    (\"system\", \"根据以上对话，用户的问题已有答案，如果有请选择FINISH。如果没有，请判断该由谁来进一步处理。 Select one of: {options}\")\n",
    "]).partial(options=str(options))"
   ]
  },
  {
   "cell_type": "markdown",
   "metadata": {},
   "source": [
    "### 定义supervisor agent\n",
    "chain = prompt | llm"
   ]
  },
  {
   "cell_type": "code",
   "execution_count": 3,
   "metadata": {},
   "outputs": [],
   "source": [
    "from pydantic import BaseModel\n",
    "from typing import Annotated, Literal\n",
    "\n",
    "# 限制supervisor_agent的输入类型\n",
    "class routeResponse(BaseModel):\n",
    "    next: Annotated[Literal['FINISH', 'DataMiner', 'Visualizer'], 'Who should act next? Or should we finish?']\n",
    "\n",
    "# supervisor_agent\n",
    "def supervisor_agent(state):\n",
    "    chain = (\n",
    "        supervisor_prompt\n",
    "        # with_strctured_output构造了一个tool，让llm进行tool_call时输入参数身体符合指定格式\n",
    "        | llm.with_structured_output(routeResponse) \n",
    "    )\n",
    "    return chain.invoke(state)"
   ]
  },
  {
   "cell_type": "markdown",
   "metadata": {},
   "source": [
    "## Create DataMiner and Visualizer agents"
   ]
  },
  {
   "cell_type": "markdown",
   "metadata": {},
   "source": [
    "### Create tools\n",
    "\n",
    "基于pandoraBox实例化一个python 代码沙盒，在沙盒内将excel读入为Dataframe。\n",
    "\n",
    "analyze_data用于处理数据分析任务，plot_data用于绘图。"
   ]
  },
  {
   "cell_type": "code",
   "execution_count": 4,
   "metadata": {},
   "outputs": [],
   "source": [
    "from langchain_core.tools import tool\n",
    "from pbox import CodeSandBox\n",
    "\n",
    "code_sandbox = CodeSandBox()\n",
    "\n",
    "code = \"\"\"\n",
    "import matplotlib.pyplot as plt\n",
    "import pandas as pd\n",
    "\n",
    "plt.rcParams['font.sans-serif'] = ['SimHei']  # 设置为黑体\n",
    "plt.rcParams['axes.unicode_minus'] = False  # 用来正常显示负号\n",
    "df = pd.read_excel('leave.xlsx')\n",
    "\"\"\"\n",
    "\n",
    "code_sandbox.execute_code(code)\n",
    "\n",
    "def save_plot(data):\n",
    "    from io import BytesIO  \n",
    "    from PIL import Image  \n",
    "    import base64\n",
    "\n",
    "    image_data = data\n",
    "    image_data_bytes = base64.b64decode(image_data)  \n",
    "    image = Image.open(BytesIO(image_data_bytes))\n",
    "    image.save('plot.png', format='PNG')\n",
    "\n",
    "@tool\n",
    "def analyze_data(\n",
    "    code: Annotated[str, \"A valid python command working with `df`. If you want to see the output of a value, you should print it out with `print(...)`.\"]\n",
    "    ) -> str:\n",
    "    \"\"\"执行关于pandas dataframe `df`的代码，使用print() 输出结果\"\"\"\n",
    "    result = code_sandbox.execute_code(code)\n",
    "\n",
    "    if result.logs.stdout:\n",
    "        output = '\\n'.join(result.logs.stdout)\n",
    "        return f\"已得到执行结果：\\n{output}\"\n",
    "    if result.results:\n",
    "        for each in result.results:\n",
    "            if each['type'] == 'image/png':\n",
    "                # 保存图片文件\n",
    "                save_plot(each['data'])\n",
    "                return f\"已保存图片，可视化任务已完成。\"\n",
    "            \n",
    "        return f\"执行出错，你是否忘记使用`print()`来打印结果？\"\n",
    "    elif result.error:\n",
    "        import re\n",
    "\n",
    "        # 用正则匹配ansi颜色代码后，替换为空\n",
    "        pattern = r'\\x1b\\[\\d+[;\\d+]*m'\n",
    "        error_message =  '\\n'.join(result.error.traceback)\n",
    "        output = re.sub(pattern, '', error_message)\n",
    "\n",
    "        return f\"执行出错：\\n{output}\"\n",
    "    else:\n",
    "        return f\"执行出错，你是否忘记使用`print()`来打印结果？\"\n",
    "        \n",
    "\n",
    "\n",
    "@tool\n",
    "def plot_data(\n",
    "    code: Annotated[str, \"A valid python command using matplotlib working with `df`. Show the plot with `plt.show()`.\"]) -> str:\n",
    "    \"\"\"执行关于`df.plot`的代码，使用`plt.show()`输出结果。\"\"\"\n",
    "    result = code_sandbox.execute_code(code)\n",
    "    \n",
    "    # 执行结果输出\n",
    "    if result.results:\n",
    "        for each in result.results:\n",
    "            if each['type'] == 'image/png':\n",
    "                # 保存图片文件\n",
    "                save_plot(each['data'])\n",
    "                return f\"已保存图片，可视化任务已完成。\"\n",
    "            \n",
    "        return f\"执行出错，请检查你的代码。\"\n",
    "    elif result.error:\n",
    "        import re\n",
    "\n",
    "        # 用正则匹配ansi颜色代码后，替换为空\n",
    "        pattern = r'\\x1b\\[\\d+[;\\d+]*m'\n",
    "        error_message =  '\\n'.join(result.error.traceback)\n",
    "        output = re.sub(pattern, '', error_message)\n",
    "\n",
    "        return f\"执行出错：\\n{output}\"\n",
    "    else:\n",
    "        return str(result.json())\n",
    "        \n",
    "    "
   ]
  },
  {
   "cell_type": "markdown",
   "metadata": {},
   "source": [
    "### Create ReAct agents"
   ]
  },
  {
   "cell_type": "code",
   "execution_count": 5,
   "metadata": {},
   "outputs": [],
   "source": [
    "import functools\n",
    "\n",
    "from langgraph.prebuilt import create_react_agent\n",
    "from langchain_core.messages import HumanMessage\n",
    "\n",
    "\n",
    "# Define a helper function that we will use to create the nodes in the graph\n",
    "# - 将agent回复转换为HumanMessage.\n",
    "# This is important because that is how we will add it the global state of the graph\n",
    "def agent_node(state, agent, prompt, name):\n",
    "    chain = prompt | agent\n",
    "    result = chain.invoke(state)\n",
    "    return {\"messages\": [HumanMessage(content=result[\"messages\"][-1].content, name=name)]}\n"
   ]
  },
  {
   "cell_type": "markdown",
   "metadata": {},
   "source": [
    "### DataMiner Agent"
   ]
  },
  {
   "cell_type": "code",
   "execution_count": 6,
   "metadata": {},
   "outputs": [],
   "source": [
    "# prompt\n",
    "dhead = '\\n'.join(code_sandbox.execute_code('print(df.head().to_markdown())').logs.stdout)\n",
    "\n",
    "system_prompt = load_prompt(\"prompt_templates/dataminer.yaml\")\n",
    "\n",
    "prompt = ChatPromptTemplate([\n",
    "    (\"system\", system_prompt.format(dhead=dhead)),\n",
    "    (\"placeholder\", \"{messages}\")\n",
    "])\n",
    "\n",
    "# agent\n",
    "dataminer_agent = create_react_agent(llm, tools=[analyze_data, plot_data])\n",
    "\n",
    "# node\n",
    "dataminer_node = functools.partial(agent_node, agent=dataminer_agent, prompt=prompt, name=\"DataMiner\")"
   ]
  },
  {
   "cell_type": "code",
   "execution_count": 7,
   "metadata": {},
   "outputs": [],
   "source": [
    "# prompt\n",
    "\n",
    "system_prompt = load_prompt(\"prompt_templates/visualizer.yaml\")\n",
    "\n",
    "prompt = ChatPromptTemplate([\n",
    "    (\"system\", system_prompt.format(dhead=dhead)),\n",
    "    (\"placeholder\", \"{messages}\")\n",
    "])\n",
    "\n",
    "# agent\n",
    "visualizer_agent = create_react_agent(llm, tools=[plot_data])\n",
    "\n",
    "# node\n",
    "visualizer_node = functools.partial(agent_node, agent=visualizer_agent, prompt=prompt, name=\"Visualizer\")"
   ]
  },
  {
   "cell_type": "markdown",
   "metadata": {},
   "source": [
    "## Construct Graph\n",
    "\n",
    "We're ready to start building the graph. Below, define the state and worker nodes using the function we just defined."
   ]
  },
  {
   "cell_type": "markdown",
   "metadata": {},
   "source": [
    "### 将节点添加到图"
   ]
  },
  {
   "cell_type": "code",
   "execution_count": 8,
   "metadata": {},
   "outputs": [],
   "source": [
    "import operator\n",
    "from typing import Sequence, TypedDict\n",
    "\n",
    "from langchain_core.messages import BaseMessage\n",
    "from langgraph.graph import StateGraph, START, END\n",
    "\n",
    "# The agent state is the input to each node in the graph\n",
    "# 就是比普通消息列表多一个next字段\n",
    "class AgentState(TypedDict):\n",
    "    # The annotation tells the graph that new messages will always\n",
    "    # be added to the current states\n",
    "    messages: Annotated[Sequence[BaseMessage], operator.add]\n",
    "\n",
    "    # The 'next' field indicates where to route to next\n",
    "    next: str\n",
    "\n",
    "workflow = StateGraph(AgentState)\n",
    "\n",
    "# 添加三个节点\n",
    "workflow.add_node(\"Supervisor\", supervisor_agent)\n",
    "workflow.add_node(\"DataMiner\", dataminer_node)\n",
    "workflow.add_node(\"Visualizer\", visualizer_node)"
   ]
  },
  {
   "cell_type": "markdown",
   "metadata": {},
   "source": [
    "### 连连看！"
   ]
  },
  {
   "cell_type": "code",
   "execution_count": 9,
   "metadata": {},
   "outputs": [],
   "source": [
    "# We want our workers to ALWAYS \"report back\" to the supervisor when done\n",
    "for worker in members:\n",
    "    workflow.add_edge(worker, \"Supervisor\")\n",
    "\n",
    "\n",
    "# The supervisor populates the \"next\" field in the graph state\n",
    "# which routes to a node or finishes\n",
    "conditional_map = {k: k for k in members}\n",
    "conditional_map[\"FINISH\"] = END\n",
    "workflow.add_conditional_edges(\"Supervisor\", lambda x: x[\"next\"], conditional_map)\n",
    "\n",
    "# Finally, add entrypoint\n",
    "workflow.add_edge(START, \"Supervisor\")\n",
    "\n",
    "\n",
    "graph = workflow.compile()"
   ]
  },
  {
   "cell_type": "markdown",
   "metadata": {},
   "source": [
    "### 可视化一下"
   ]
  },
  {
   "cell_type": "code",
   "execution_count": 10,
   "metadata": {},
   "outputs": [
    {
     "data": {
      "image/jpeg": "[encoded data removed]",
      "text/plain": [
       "<IPython.core.display.Image object>"
      ]
     },
     "metadata": {},
     "output_type": "display_data"
    }
   ],
   "source": [
    "from IPython.display import Image, display\n",
    "\n",
    "display(Image(graph.get_graph().draw_mermaid_png()))"
   ]
  },
  {
   "cell_type": "markdown",
   "metadata": {},
   "source": [
    "## Invoke the team\n",
    "\n",
    "With the graph created, we can now invoke it and see how it performs!"
   ]
  },
  {
   "cell_type": "markdown",
   "metadata": {},
   "source": [
    "### 设置langchain 的verbose与debug"
   ]
  },
  {
   "cell_type": "code",
   "execution_count": 11,
   "metadata": {},
   "outputs": [],
   "source": [
    "from langchain.globals import set_debug, set_verbose\n",
    "\n",
    "set_debug(False)\n",
    "set_verbose(False)"
   ]
  },
  {
   "cell_type": "markdown",
   "metadata": {},
   "source": [
    "### 跑一跑看看"
   ]
  },
  {
   "cell_type": "code",
   "execution_count": 12,
   "metadata": {},
   "outputs": [
    {
     "name": "stdout",
     "output_type": "stream",
     "text": [
      "================================\u001b[1m Human Message \u001b[0m=================================\n",
      "\n",
      "请假最多人叫什么\n",
      "================================\u001b[1m Human Message \u001b[0m=================================\n",
      "\n",
      "请假最多人叫什么\n",
      "================================\u001b[1m Human Message \u001b[0m=================================\n",
      "Name: DataMiner\n",
      "\n",
      "analyze_data\n",
      "```python\n",
      "print(df['申请人'].value_counts().idxmax())\n",
      "```\n",
      "================================\u001b[1m Human Message \u001b[0m=================================\n",
      "Name: DataMiner\n",
      "\n",
      "analyze_data\n",
      "```python\n",
      "print(df['申请人'].value_counts().idxmax())\n",
      "```\n",
      "================================\u001b[1m Human Message \u001b[0m=================================\n",
      "Name: DataMiner\n",
      "\n",
      "请假最多的人叫张莹玺。\n",
      "================================\u001b[1m Human Message \u001b[0m=================================\n",
      "Name: DataMiner\n",
      "\n",
      "请假最多的人叫张莹玺。\n",
      "================================\u001b[1m Human Message \u001b[0m=================================\n",
      "Name: DataMiner\n",
      "\n",
      "请假最多的人叫张莹玺。\n"
     ]
    }
   ],
   "source": [
    "query = '请假最多人叫什么'\n",
    "\n",
    "for each in graph.stream(\n",
    "    {\"messages\":[HumanMessage(content=query)]}, stream_mode='values'):\n",
    "    each['messages'][-1].pretty_print()"
   ]
  },
  {
   "cell_type": "code",
   "execution_count": 13,
   "metadata": {},
   "outputs": [
    {
     "name": "stdout",
     "output_type": "stream",
     "text": [
      "{'Supervisor': {'next': 'DataMiner'}}\n",
      "{'DataMiner': {'messages': [HumanMessage(content='请假人数最多的5个部门已经通过饼图展示出来，请查看生成的图片。', name='DataMiner')]}}\n",
      "{'Supervisor': {'next': 'Visualizer'}}\n",
      "{'Visualizer': {'messages': [HumanMessage(content='图片已生成。', name='Visualizer')]}}\n",
      "{'Supervisor': {'next': 'FINISH'}}\n"
     ]
    }
   ],
   "source": [
    "query = '请用饼图展示请假人数最多的5个部门'\n",
    "\n",
    "for each in graph.stream({\"messages\":[HumanMessage(content=query)]}):\n",
    "    print(each)"
   ]
  },
  {
   "cell_type": "code",
   "execution_count": 15,
   "metadata": {},
   "outputs": [
    {
     "name": "stdout",
     "output_type": "stream",
     "text": [
      "{'type': 'task', 'timestamp': '2024-09-05T12:14:48.602733+00:00', 'step': 1, 'payload': {'id': '5ef199ff-5d1d-5b90-a619-c7e73dd3de80', 'name': 'Supervisor', 'input': {'messages': [HumanMessage(content='请用饼图展示请假人数最多的5个部门')]}, 'triggers': ['start:Supervisor']}}\n",
      "{'type': 'task_result', 'timestamp': '2024-09-05T12:14:49.429065+00:00', 'step': 1, 'payload': {'id': '5ef199ff-5d1d-5b90-a619-c7e73dd3de80', 'name': 'Supervisor', 'error': None, 'result': [('next', 'DataMiner')], 'interrupts': []}}\n",
      "{'type': 'task', 'timestamp': '2024-09-05T12:14:49.429574+00:00', 'step': 2, 'payload': {'id': '6931932d-e511-5e52-a2e9-08cd38193d70', 'name': 'DataMiner', 'input': {'messages': [HumanMessage(content='请用饼图展示请假人数最多的5个部门')], 'next': 'DataMiner'}, 'triggers': ['branch:Supervisor:condition:DataMiner']}}\n",
      "{'type': 'task_result', 'timestamp': '2024-09-05T12:14:55.569732+00:00', 'step': 2, 'payload': {'id': '6931932d-e511-5e52-a2e9-08cd38193d70', 'name': 'DataMiner', 'error': None, 'result': [('messages', [HumanMessage(content='请假人数最多的5个部门的饼图已经生成，请查看以下结果：\\n\\n![请假人数最多的5个部门饼图](sandbox:/mnt/data/Sydney/working/vis_output/2024_02_21/8c0e4f9c0c824f8b8e1e3e3b5e4e2ab.png)', name='DataMiner')])], 'interrupts': []}}\n",
      "{'type': 'task', 'timestamp': '2024-09-05T12:14:55.570635+00:00', 'step': 3, 'payload': {'id': 'dfb3b778-318d-5485-9971-9ac514519cca', 'name': 'Supervisor', 'input': {'messages': [HumanMessage(content='请用饼图展示请假人数最多的5个部门', id='ddf26d96-41a4-4efc-b420-7dcca5725c44'), HumanMessage(content='请假人数最多的5个部门的饼图已经生成，请查看以下结果：\\n\\n![请假人数最多的5个部门饼图](sandbox:/mnt/data/Sydney/working/vis_output/2024_02_21/8c0e4f9c0c824f8b8e1e3e3b5e4e2ab.png)', name='DataMiner')], 'next': 'DataMiner'}, 'triggers': ['DataMiner']}}\n",
      "{'type': 'task_result', 'timestamp': '2024-09-05T12:14:56.191807+00:00', 'step': 3, 'payload': {'id': 'dfb3b778-318d-5485-9971-9ac514519cca', 'name': 'Supervisor', 'error': None, 'result': [('next', 'FINISH')], 'interrupts': []}}\n"
     ]
    }
   ],
   "source": [
    "for each in graph.stream({\"messages\":[HumanMessage(content=query)]}, stream_mode='debug'):\n",
    "    print(each)"
   ]
  },
  {
   "cell_type": "code",
   "execution_count": null,
   "metadata": {},
   "outputs": [],
   "source": []
  }
 ],
 "metadata": {
  "kernelspec": {
   "display_name": "Python 3",
   "language": "python",
   "name": "python3"
  },
  "language_info": {
   "codemirror_mode": {
    "name": "ipython",
    "version": 3
   },
   "file_extension": ".py",
   "mimetype": "text/x-python",
   "name": "python",
   "nbconvert_exporter": "python",
   "pygments_lexer": "ipython3",
   "version": "3.10.14"
  }
 },
 "nbformat": 4,
 "nbformat_minor": 2
}
