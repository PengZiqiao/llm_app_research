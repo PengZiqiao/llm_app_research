{
  "cells": [
    {
      "cell_type": "code",
      "execution_count": 1,
      "metadata": {},
      "outputs": [
        {
          "name": "stdout",
          "output_type": "stream",
          "text": [
            " \n",
            "\n",
            "本次客服沟通记录总结如下：客户周先生表示其名下有一笔权益贷销金的贷款存在逾期，希望与银行协商还款方案。客服周确认了客户的身份信息，并表示会记录客户的需求，让后台人员核实后给予回复。客服强调协商还款的具体结果和方案不能保证，并询问客户是否有延期还款的具体时间要求。最后，客服表示会如实登记客户信息，并承诺后台核实后会联系客户，客户对此表示理解，并感谢客服的帮助。\n"
          ]
        }
      ],
      "source": [
        "from utils import chat_invoke\n",
        "from utils import template_substitute\n",
        "from pathlib import Path\n",
        "\n",
        "input = Path('data/call_record.txt').read_text()\n",
        "prompt = template_substitute('summary', input=input)\n",
        "result = chat_invoke(prompt)\n",
        "print(result)"
      ]
    }
  ],
  "metadata": {
    "kernelspec": {
      "display_name": "Python 3",
      "language": "python",
      "name": "py35-paddle1.2.0"
    },
    "language_info": {
      "codemirror_mode": {
        "name": "ipython",
        "version": 3
      },
      "file_extension": ".py",
      "mimetype": "text/x-python",
      "name": "python",
      "nbconvert_exporter": "python",
      "pygments_lexer": "ipython3",
      "version": "3.10.10"
    }
  },
  "nbformat": 4,
  "nbformat_minor": 1
}
