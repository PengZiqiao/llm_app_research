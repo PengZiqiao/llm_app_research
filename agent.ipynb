{
 "cells": [
  {
   "cell_type": "code",
   "execution_count": 26,
   "metadata": {},
   "outputs": [
    {
     "name": "stdout",
     "output_type": "stream",
     "text": [
      "Looking in indexes: https://mirror.baidu.com/pypi/simple/, https://mirrors.aliyun.com/pypi/simple/\n",
      "\u001b[33mWARNING: Skipping page https://mirror.baidu.com/pypi/simple/langchain-experimental/ because the GET request got Content-Type: application/octet-stream. The only supported Content-Types are application/vnd.pypi.simple.v1+json, application/vnd.pypi.simple.v1+html, and text/html\u001b[0m\u001b[33m\n",
      "\u001b[0mCollecting langchain_experimental\n",
      "  Downloading https://mirrors.aliyun.com/pypi/packages/3b/fc/f5cb661aac93f1e206070a4aa40a4ed19c7aa02410ad03cbb1f9876b6888/langchain_experimental-0.0.64-py3-none-any.whl (204 kB)\n",
      "\u001b[2K     \u001b[90m━━━━━━━━━━━━━━━━━━━━━━━━━━━━━━━━━━━━━━━\u001b[0m \u001b[32m204.3/204.3 kB\u001b[0m \u001b[31m2.0 MB/s\u001b[0m eta \u001b[36m0:00:00\u001b[0ma \u001b[36m0:00:01\u001b[0m\n",
      "\u001b[?25h\u001b[33mWARNING: Skipping page https://mirror.baidu.com/pypi/simple/langchain-community/ because the GET request got Content-Type: application/octet-stream. The only supported Content-Types are application/vnd.pypi.simple.v1+json, application/vnd.pypi.simple.v1+html, and text/html\u001b[0m\u001b[33m\n",
      "\u001b[0mCollecting langchain-community<0.3.0,>=0.2.10 (from langchain_experimental)\n",
      "  Downloading https://mirrors.aliyun.com/pypi/packages/22/dc/6cde0b7179868fc6eafe458b39276051798b979d55d5a8ca7b45dae89558/langchain_community-0.2.11-py3-none-any.whl (2.3 MB)\n",
      "\u001b[2K     \u001b[90m━━━━━━━━━━━━━━━━━━━━━━━━━━━━━━━━━━━━━━━━\u001b[0m \u001b[32m2.3/2.3 MB\u001b[0m \u001b[31m16.2 MB/s\u001b[0m eta \u001b[36m0:00:00\u001b[0m00:01\u001b[0m00:01\u001b[0m\n",
      "\u001b[?25h\u001b[33mWARNING: Skipping page https://mirror.baidu.com/pypi/simple/langchain-core/ because the GET request got Content-Type: application/octet-stream. The only supported Content-Types are application/vnd.pypi.simple.v1+json, application/vnd.pypi.simple.v1+html, and text/html\u001b[0m\u001b[33m\n",
      "\u001b[0mCollecting langchain-core<0.3.0,>=0.2.27 (from langchain_experimental)\n",
      "  Downloading https://mirrors.aliyun.com/pypi/packages/80/f1/03bed8e4c6be30cece0749960666010069f92efcd437779b0f0753af8cde/langchain_core-0.2.29-py3-none-any.whl (383 kB)\n",
      "\u001b[2K     \u001b[90m━━━━━━━━━━━━━━━━━━━━━━━━━━━━━━━━━━━━━━\u001b[0m \u001b[32m384.0/384.0 kB\u001b[0m \u001b[31m12.4 MB/s\u001b[0m eta \u001b[36m0:00:00\u001b[0m\n",
      "\u001b[?25hRequirement already satisfied: PyYAML>=5.3 in /opt/conda/envs/python35-paddle120-env/lib/python3.10/site-packages (from langchain-community<0.3.0,>=0.2.10->langchain_experimental) (6.0.1)\n",
      "\u001b[33mWARNING: Skipping page https://mirror.baidu.com/pypi/simple/sqlalchemy/ because the GET request got Content-Type: application/octet-stream. The only supported Content-Types are application/vnd.pypi.simple.v1+json, application/vnd.pypi.simple.v1+html, and text/html\u001b[0m\u001b[33m\n",
      "\u001b[0mCollecting SQLAlchemy<3,>=1.4 (from langchain-community<0.3.0,>=0.2.10->langchain_experimental)\n",
      "  Downloading https://mirrors.aliyun.com/pypi/packages/3b/94/db0bc142f448627638a2962afae54c520697119c0d6e23ebd36a7c472c8f/SQLAlchemy-2.0.32-cp310-cp310-manylinux_2_17_x86_64.manylinux2014_x86_64.whl (3.1 MB)\n",
      "\u001b[2K     \u001b[90m━━━━━━━━━━━━━━━━━━━━━━━━━━━━━━━━━━━━━━━━\u001b[0m \u001b[32m3.1/3.1 MB\u001b[0m \u001b[31m15.1 MB/s\u001b[0m eta \u001b[36m0:00:00\u001b[0m00:01\u001b[0m00:01\u001b[0m\n",
      "\u001b[?25hRequirement already satisfied: aiohttp<4.0.0,>=3.8.3 in /opt/conda/envs/python35-paddle120-env/lib/python3.10/site-packages (from langchain-community<0.3.0,>=0.2.10->langchain_experimental) (3.9.5)\n",
      "Collecting dataclasses-json<0.7,>=0.5.7 (from langchain-community<0.3.0,>=0.2.10->langchain_experimental)\n",
      "  Downloading https://mirrors.aliyun.com/pypi/packages/c3/be/d0d44e092656fe7a06b55e6103cbce807cdbdee17884a5367c68c9860853/dataclasses_json-0.6.7-py3-none-any.whl (28 kB)\n",
      "\u001b[33mWARNING: Skipping page https://mirror.baidu.com/pypi/simple/langchain/ because the GET request got Content-Type: application/octet-stream. The only supported Content-Types are application/vnd.pypi.simple.v1+json, application/vnd.pypi.simple.v1+html, and text/html\u001b[0m\u001b[33m\n",
      "\u001b[0mCollecting langchain<0.3.0,>=0.2.12 (from langchain-community<0.3.0,>=0.2.10->langchain_experimental)\n",
      "  Downloading https://mirrors.aliyun.com/pypi/packages/ed/34/e4aa70567c2431001281bfb86e50e28460e486485cbe8b1de0f541bfb842/langchain-0.2.12-py3-none-any.whl (990 kB)\n",
      "\u001b[2K     \u001b[90m━━━━━━━━━━━━━━━━━━━━━━━━━━━━━━━━━━━━━━\u001b[0m \u001b[32m990.6/990.6 kB\u001b[0m \u001b[31m18.1 MB/s\u001b[0m eta \u001b[36m0:00:00\u001b[0ma \u001b[36m0:00:01\u001b[0m\n",
      "\u001b[?25h\u001b[33mWARNING: Skipping page https://mirror.baidu.com/pypi/simple/langsmith/ because the GET request got Content-Type: application/octet-stream. The only supported Content-Types are application/vnd.pypi.simple.v1+json, application/vnd.pypi.simple.v1+html, and text/html\u001b[0m\u001b[33m\n",
      "\u001b[0mCollecting langsmith<0.2.0,>=0.1.0 (from langchain-community<0.3.0,>=0.2.10->langchain_experimental)\n",
      "  Downloading https://mirrors.aliyun.com/pypi/packages/00/db/95e10adc24592f6074102033b2c478c27e4e3ab327d57ee042721905d144/langsmith-0.1.98-py3-none-any.whl (140 kB)\n",
      "\u001b[2K     \u001b[90m━━━━━━━━━━━━━━━━━━━━━━━━━━━━━━━━━━━━━━━\u001b[0m \u001b[32m140.2/140.2 kB\u001b[0m \u001b[31m9.7 MB/s\u001b[0m eta \u001b[36m0:00:00\u001b[0m\n",
      "\u001b[?25hRequirement already satisfied: numpy<2,>=1 in /opt/conda/envs/python35-paddle120-env/lib/python3.10/site-packages (from langchain-community<0.3.0,>=0.2.10->langchain_experimental) (1.26.4)\n",
      "Requirement already satisfied: requests<3,>=2 in /opt/conda/envs/python35-paddle120-env/lib/python3.10/site-packages (from langchain-community<0.3.0,>=0.2.10->langchain_experimental) (2.32.3)\n",
      "\u001b[33mWARNING: Skipping page https://mirror.baidu.com/pypi/simple/tenacity/ because the GET request got Content-Type: application/octet-stream. The only supported Content-Types are application/vnd.pypi.simple.v1+json, application/vnd.pypi.simple.v1+html, and text/html\u001b[0m\u001b[33m\n",
      "\u001b[0mCollecting tenacity!=8.4.0,<9.0.0,>=8.1.0 (from langchain-community<0.3.0,>=0.2.10->langchain_experimental)\n",
      "  Downloading https://mirrors.aliyun.com/pypi/packages/d2/3f/8ba87d9e287b9d385a02a7114ddcef61b26f86411e121c9003eb509a1773/tenacity-8.5.0-py3-none-any.whl (28 kB)\n",
      "Collecting jsonpatch<2.0,>=1.33 (from langchain-core<0.3.0,>=0.2.27->langchain_experimental)\n",
      "  Downloading https://mirrors.aliyun.com/pypi/packages/73/07/02e16ed01e04a374e644b575638ec7987ae846d25ad97bcc9945a3ee4b0e/jsonpatch-1.33-py2.py3-none-any.whl (12 kB)\n",
      "Requirement already satisfied: packaging<25,>=23.2 in /opt/conda/envs/python35-paddle120-env/lib/python3.10/site-packages (from langchain-core<0.3.0,>=0.2.27->langchain_experimental) (24.1)\n",
      "Requirement already satisfied: pydantic<3,>=1 in /opt/conda/envs/python35-paddle120-env/lib/python3.10/site-packages (from langchain-core<0.3.0,>=0.2.27->langchain_experimental) (2.8.2)\n",
      "Requirement already satisfied: typing-extensions>=4.7 in /opt/conda/envs/python35-paddle120-env/lib/python3.10/site-packages (from langchain-core<0.3.0,>=0.2.27->langchain_experimental) (4.12.2)\n",
      "Requirement already satisfied: aiosignal>=1.1.2 in /opt/conda/envs/python35-paddle120-env/lib/python3.10/site-packages (from aiohttp<4.0.0,>=3.8.3->langchain-community<0.3.0,>=0.2.10->langchain_experimental) (1.3.1)\n",
      "Requirement already satisfied: attrs>=17.3.0 in /opt/conda/envs/python35-paddle120-env/lib/python3.10/site-packages (from aiohttp<4.0.0,>=3.8.3->langchain-community<0.3.0,>=0.2.10->langchain_experimental) (23.2.0)\n",
      "Requirement already satisfied: frozenlist>=1.1.1 in /opt/conda/envs/python35-paddle120-env/lib/python3.10/site-packages (from aiohttp<4.0.0,>=3.8.3->langchain-community<0.3.0,>=0.2.10->langchain_experimental) (1.4.1)\n",
      "Requirement already satisfied: multidict<7.0,>=4.5 in /opt/conda/envs/python35-paddle120-env/lib/python3.10/site-packages (from aiohttp<4.0.0,>=3.8.3->langchain-community<0.3.0,>=0.2.10->langchain_experimental) (6.0.5)\n",
      "Requirement already satisfied: yarl<2.0,>=1.0 in /opt/conda/envs/python35-paddle120-env/lib/python3.10/site-packages (from aiohttp<4.0.0,>=3.8.3->langchain-community<0.3.0,>=0.2.10->langchain_experimental) (1.9.4)\n",
      "Requirement already satisfied: async-timeout<5.0,>=4.0 in /opt/conda/envs/python35-paddle120-env/lib/python3.10/site-packages (from aiohttp<4.0.0,>=3.8.3->langchain-community<0.3.0,>=0.2.10->langchain_experimental) (4.0.3)\n",
      "Collecting marshmallow<4.0.0,>=3.18.0 (from dataclasses-json<0.7,>=0.5.7->langchain-community<0.3.0,>=0.2.10->langchain_experimental)\n",
      "  Downloading https://mirrors.aliyun.com/pypi/packages/96/d7/f318261e6ccbba86bdf626e07cd850981508fdaec52cfcdc4ac1030327ab/marshmallow-3.21.3-py3-none-any.whl (49 kB)\n",
      "\u001b[2K     \u001b[90m━━━━━━━━━━━━━━━━━━━━━━━━━━━━━━━━━━━━━━━━\u001b[0m \u001b[32m49.2/49.2 kB\u001b[0m \u001b[31m6.5 MB/s\u001b[0m eta \u001b[36m0:00:00\u001b[0m\n",
      "\u001b[?25hCollecting typing-inspect<1,>=0.4.0 (from dataclasses-json<0.7,>=0.5.7->langchain-community<0.3.0,>=0.2.10->langchain_experimental)\n",
      "  Downloading https://mirrors.aliyun.com/pypi/packages/65/f3/107a22063bf27bdccf2024833d3445f4eea42b2e598abfbd46f6a63b6cb0/typing_inspect-0.9.0-py3-none-any.whl (8.8 kB)\n",
      "Collecting jsonpointer>=1.9 (from jsonpatch<2.0,>=1.33->langchain-core<0.3.0,>=0.2.27->langchain_experimental)\n",
      "  Downloading https://mirrors.aliyun.com/pypi/packages/71/92/5e77f98553e9e75130c78900d000368476aed74276eb8ae8796f65f00918/jsonpointer-3.0.0-py2.py3-none-any.whl (7.6 kB)\n",
      "\u001b[33mWARNING: Skipping page https://mirror.baidu.com/pypi/simple/langchain-text-splitters/ because the GET request got Content-Type: application/octet-stream. The only supported Content-Types are application/vnd.pypi.simple.v1+json, application/vnd.pypi.simple.v1+html, and text/html\u001b[0m\u001b[33m\n",
      "\u001b[0mCollecting langchain-text-splitters<0.3.0,>=0.2.0 (from langchain<0.3.0,>=0.2.12->langchain-community<0.3.0,>=0.2.10->langchain_experimental)\n",
      "  Downloading https://mirrors.aliyun.com/pypi/packages/06/76/9e0ca1b8881f64bf927f2205bf6c43a085c04646a71d911b3c05d76e90bb/langchain_text_splitters-0.2.2-py3-none-any.whl (25 kB)\n",
      "Requirement already satisfied: orjson<4.0.0,>=3.9.14 in /opt/conda/envs/python35-paddle120-env/lib/python3.10/site-packages (from langsmith<0.2.0,>=0.1.0->langchain-community<0.3.0,>=0.2.10->langchain_experimental) (3.10.6)\n",
      "Requirement already satisfied: annotated-types>=0.4.0 in /opt/conda/envs/python35-paddle120-env/lib/python3.10/site-packages (from pydantic<3,>=1->langchain-core<0.3.0,>=0.2.27->langchain_experimental) (0.7.0)\n",
      "Requirement already satisfied: pydantic-core==2.20.1 in /opt/conda/envs/python35-paddle120-env/lib/python3.10/site-packages (from pydantic<3,>=1->langchain-core<0.3.0,>=0.2.27->langchain_experimental) (2.20.1)\n",
      "Requirement already satisfied: charset-normalizer<4,>=2 in /opt/conda/envs/python35-paddle120-env/lib/python3.10/site-packages (from requests<3,>=2->langchain-community<0.3.0,>=0.2.10->langchain_experimental) (3.3.2)\n",
      "Requirement already satisfied: idna<4,>=2.5 in /opt/conda/envs/python35-paddle120-env/lib/python3.10/site-packages (from requests<3,>=2->langchain-community<0.3.0,>=0.2.10->langchain_experimental) (3.7)\n",
      "Requirement already satisfied: urllib3<3,>=1.21.1 in /opt/conda/envs/python35-paddle120-env/lib/python3.10/site-packages (from requests<3,>=2->langchain-community<0.3.0,>=0.2.10->langchain_experimental) (2.2.2)\n",
      "Requirement already satisfied: certifi>=2017.4.17 in /opt/conda/envs/python35-paddle120-env/lib/python3.10/site-packages (from requests<3,>=2->langchain-community<0.3.0,>=0.2.10->langchain_experimental) (2024.7.4)\n",
      "Collecting greenlet!=0.4.17 (from SQLAlchemy<3,>=1.4->langchain-community<0.3.0,>=0.2.10->langchain_experimental)\n",
      "  Downloading https://mirrors.aliyun.com/pypi/packages/24/35/945d5b10648fec9b20bcc6df8952d20bb3bba76413cd71c1fdbee98f5616/greenlet-3.0.3-cp310-cp310-manylinux_2_24_x86_64.manylinux_2_28_x86_64.whl (616 kB)\n",
      "\u001b[2K     \u001b[90m━━━━━━━━━━━━━━━━━━━━━━━━━━━━━━━━━━━━━━\u001b[0m \u001b[32m616.0/616.0 kB\u001b[0m \u001b[31m14.3 MB/s\u001b[0m eta \u001b[36m0:00:00\u001b[0m00:01\u001b[0m\n",
      "\u001b[?25hCollecting mypy-extensions>=0.3.0 (from typing-inspect<1,>=0.4.0->dataclasses-json<0.7,>=0.5.7->langchain-community<0.3.0,>=0.2.10->langchain_experimental)\n",
      "  Downloading https://mirrors.aliyun.com/pypi/packages/2a/e2/5d3f6ada4297caebe1a2add3b126fe800c96f56dbe5d1988a2cbe0b267aa/mypy_extensions-1.0.0-py3-none-any.whl (4.7 kB)\n",
      "Installing collected packages: tenacity, mypy-extensions, marshmallow, jsonpointer, greenlet, typing-inspect, SQLAlchemy, jsonpatch, langsmith, dataclasses-json, langchain-core, langchain-text-splitters, langchain, langchain-community, langchain_experimental\n",
      "Successfully installed SQLAlchemy-2.0.32 dataclasses-json-0.6.7 greenlet-3.0.3 jsonpatch-1.33 jsonpointer-3.0.0 langchain-0.2.12 langchain-community-0.2.11 langchain-core-0.2.29 langchain-text-splitters-0.2.2 langchain_experimental-0.0.64 langsmith-0.1.98 marshmallow-3.21.3 mypy-extensions-1.0.0 tenacity-8.5.0 typing-inspect-0.9.0\n"
     ]
    }
   ],
   "source": [
    "!pip install langchain_experimental"
   ]
  },
  {
   "cell_type": "code",
   "execution_count": 40,
   "metadata": {},
   "outputs": [
    {
     "data": {
      "text/html": [
       "<div>\n",
       "<style scoped>\n",
       "    .dataframe tbody tr th:only-of-type {\n",
       "        vertical-align: middle;\n",
       "    }\n",
       "\n",
       "    .dataframe tbody tr th {\n",
       "        vertical-align: top;\n",
       "    }\n",
       "\n",
       "    .dataframe thead th {\n",
       "        text-align: right;\n",
       "    }\n",
       "</style>\n",
       "<table border=\"1\" class=\"dataframe\">\n",
       "  <thead>\n",
       "    <tr style=\"text-align: right;\">\n",
       "      <th></th>\n",
       "      <th>PassengerId</th>\n",
       "      <th>Survived</th>\n",
       "      <th>Pclass</th>\n",
       "      <th>Name</th>\n",
       "      <th>Sex</th>\n",
       "      <th>Age</th>\n",
       "      <th>SibSp</th>\n",
       "      <th>Parch</th>\n",
       "      <th>Ticket</th>\n",
       "      <th>Fare</th>\n",
       "      <th>Cabin</th>\n",
       "      <th>Embarked</th>\n",
       "      <th>Unnamed: 12</th>\n",
       "    </tr>\n",
       "  </thead>\n",
       "  <tbody>\n",
       "    <tr>\n",
       "      <th>0</th>\n",
       "      <td>1</td>\n",
       "      <td>0</td>\n",
       "      <td>3</td>\n",
       "      <td>Braund, Mr. Owen Harris</td>\n",
       "      <td>male</td>\n",
       "      <td>22.0</td>\n",
       "      <td>1</td>\n",
       "      <td>0</td>\n",
       "      <td>A/5 21171</td>\n",
       "      <td>7.2500</td>\n",
       "      <td>NaN</td>\n",
       "      <td>S</td>\n",
       "      <td>NaN</td>\n",
       "    </tr>\n",
       "    <tr>\n",
       "      <th>1</th>\n",
       "      <td>2</td>\n",
       "      <td>1</td>\n",
       "      <td>1</td>\n",
       "      <td>Cumings, Mrs. John Bradley (Florence Briggs Th...</td>\n",
       "      <td>female</td>\n",
       "      <td>38.0</td>\n",
       "      <td>1</td>\n",
       "      <td>0</td>\n",
       "      <td>PC 17599</td>\n",
       "      <td>71.2833</td>\n",
       "      <td>C85</td>\n",
       "      <td>C</td>\n",
       "      <td>NaN</td>\n",
       "    </tr>\n",
       "    <tr>\n",
       "      <th>2</th>\n",
       "      <td>3</td>\n",
       "      <td>1</td>\n",
       "      <td>3</td>\n",
       "      <td>Heikkinen, Miss. Laina</td>\n",
       "      <td>female</td>\n",
       "      <td>26.0</td>\n",
       "      <td>0</td>\n",
       "      <td>0</td>\n",
       "      <td>STON/O2. 3101282</td>\n",
       "      <td>7.9250</td>\n",
       "      <td>NaN</td>\n",
       "      <td>S</td>\n",
       "      <td>NaN</td>\n",
       "    </tr>\n",
       "  </tbody>\n",
       "</table>\n",
       "</div>"
      ],
      "text/plain": [
       "   PassengerId  Survived  Pclass  \\\n",
       "0            1         0       3   \n",
       "1            2         1       1   \n",
       "2            3         1       3   \n",
       "\n",
       "                                                Name     Sex   Age  SibSp  \\\n",
       "0                            Braund, Mr. Owen Harris    male  22.0      1   \n",
       "1  Cumings, Mrs. John Bradley (Florence Briggs Th...  female  38.0      1   \n",
       "2                             Heikkinen, Miss. Laina  female  26.0      0   \n",
       "\n",
       "   Parch            Ticket     Fare Cabin Embarked  Unnamed: 12  \n",
       "0      0         A/5 21171   7.2500   NaN        S          NaN  \n",
       "1      0          PC 17599  71.2833   C85        C          NaN  \n",
       "2      0  STON/O2. 3101282   7.9250   NaN        S          NaN  "
      ]
     },
     "execution_count": 40,
     "metadata": {},
     "output_type": "execute_result"
    }
   ],
   "source": [
    "from langchain_experimental.tools.python.tool import PythonAstREPLTool\n",
    "import pandas as pd\n",
    "\n",
    "df = pd.read_csv(\"data/titanic.csv\")\n",
    "python_repl_ast = PythonAstREPLTool(locals={'df':df})\n",
    "tool_map = {'python_repl_ast': python_repl_ast}\n",
    "\n",
    "tool = 'python_repl_ast'\n",
    "tool_input = 'df.head(3)'\n",
    "\n",
    "tool_map[tool].run(tool_input)"
   ]
  },
  {
   "cell_type": "code",
   "execution_count": 55,
   "metadata": {},
   "outputs": [
    {
     "name": "stdout",
     "output_type": "stream",
     "text": [
      " \n",
      "```json\n",
      "{\n",
      "    \"Question\": \"年龄大于22岁的乘客共几名？\",\n",
      "    \"Scratchpad\": [\n",
      "        {\n",
      "            \"Thought\": \"回答这个问题，我需要计算年龄大于22岁的乘客数量。可以通过筛选年龄列中大于22的值来实现。\",\n",
      "            \"Tool\": \"python_repl_ast\",\n",
      "            \"Tool Input\": \"df[df['Age'] > 22].shape[0]\"\n",
      "        }\n",
      "    ],\n",
      "    \"Thought\": \"我已经编写了相应的代码来计算年龄大于22岁的乘客数量。\",\n",
      "    \"Tool\": \"python_repl_ast\",\n",
      "    \"Tool Input\": \"df[df['Age'] > 22].shape[0]\",\n",
      "    \"Observation\": null,\n",
      "    \"Finished\": 0\n",
      "}\n",
      "```\n"
     ]
    }
   ],
   "source": [
    "from utils import chat_invoke\n",
    "from utils import template_substitute\n",
    "\n",
    "input = '年龄大于22岁的乘客共几名'\n",
    "scratchpad = [\n",
    "        {\n",
    "            \"Thought\":\"回答用户问题，前我需要观察一下数据例名\",\n",
    "            \"Tool\": \"python_repl_ast\",\n",
    "            \"Tool Input\":\"df.columns\",\n",
    "            \"Observation\":\"Index(['PassengerId', 'Survived', 'Pclass', 'Name', 'Sex', 'Age', 'SibSp', 'Parch', 'Ticket', 'Fare', 'Cabin', 'Embarked', 'Unnamed: 12'], dtype='object')\"\n",
    "        }\n",
    "    ]\n",
    "\n",
    "prompt = template_substitute('agent', input=input, scratchpad=scratchpad)\n",
    "result = chat_invoke(prompt)\n",
    "print(result)"
   ]
  },
  {
   "cell_type": "code",
   "execution_count": 42,
   "metadata": {},
   "outputs": [
    {
     "name": "stdout",
     "output_type": "stream",
     "text": [
      "483\n",
      "\n"
     ]
    }
   ],
   "source": [
    "from utils import json_loads\n",
    "\n",
    "obj = json_loads(result)\n",
    "thought  = obj['Thought']\n",
    "tool = obj['Tool']\n",
    "tool_input = obj['Tool Input']\n",
    "observation = tool_map[tool].run(tool_input)\n",
    "print(observation)"
   ]
  },
  {
   "cell_type": "code",
   "execution_count": 56,
   "metadata": {},
   "outputs": [
    {
     "data": {
      "text/plain": [
       "[{'Thought': '回答用户问题，前我需要观察一下数据例名',\n",
       "  'Tool': 'python_repl_ast',\n",
       "  'Tool Input': 'df.columns',\n",
       "  'Observation': \"Index(['PassengerId', 'Survived', 'Pclass', 'Name', 'Sex', 'Age', 'SibSp', 'Parch', 'Ticket', 'Fare', 'Cabin', 'Embarked', 'Unnamed: 12'], dtype='object')\"},\n",
       " {'Thought': \"要回答这个问题，我需要计算年龄大于22岁的乘客数量。这可以通过筛选df中'Age'列大于22的行来实现。\",\n",
       "  'Tool': 'python_repl_ast',\n",
       "  'Tool Input': \"print(df[df['Age'] > 22].shape[0])\",\n",
       "  'observation': '483\\n'}]"
      ]
     },
     "execution_count": 56,
     "metadata": {},
     "output_type": "execute_result"
    }
   ],
   "source": [
    "scratchpad.append({\n",
    "    'Thought':thought,\n",
    "    'Tool': tool,\n",
    "    'Tool Input':tool_input,\n",
    "    'observation':observation\n",
    "})\n",
    "\n",
    "scratchpad"
   ]
  },
  {
   "cell_type": "code",
   "execution_count": 57,
   "metadata": {},
   "outputs": [
    {
     "name": "stdout",
     "output_type": "stream",
     "text": [
      " \n",
      "```json\n",
      "{\n",
      "    \"Question\": \"年龄大于22岁的乘客共几名？\",\n",
      "    \"Scratchpad\": [\n",
      "        {\n",
      "            \"Thought\": \"要回答这个问题，我需要计算年龄大于22岁的乘客数量。这可以通过筛选df中'Age'列大于22的行来实现。\",\n",
      "            \"Tool\": \"python_repl_ast\",\n",
      "            \"Tool Input\": \"print(df[df['Age'] > 22].shape[0])\",\n",
      "            \"Observation\": \"None\"\n",
      "        }\n",
      "    ],\n",
      "    \"Thought\": \"我已经写好了计算年龄大于22岁的乘客数量的代码，接下来我将执行这段代码。\",\n",
      "    \"Tool\": \"python_repl_ast\",\n",
      "    \"Tool Input\": \"print(df[df['Age'] > 22].shape[0])\",\n",
      "    \"Observation\": \"483\",\n",
      "    \"Finished\": 1,\n",
      "    \"Answer\": \"年龄大于22岁的乘客共有483名。\"\n",
      "}\n",
      "```\n"
     ]
    }
   ],
   "source": [
    "prompt = template_substitute('agent', input=input, scratchpad=scratchpad)\n",
    "result = chat_invoke(prompt)\n",
    "print(result)"
   ]
  },
  {
   "cell_type": "code",
   "execution_count": 67,
   "metadata": {},
   "outputs": [],
   "source": [
    "scratchpad = [\n",
    "        {\n",
    "            \"Thought\":\"回答用户问题，前我需要观察一下数据例名\",\n",
    "            \"Tool\": \"python_repl_ast\",\n",
    "            \"Tool Input\":\"df.columns\",\n",
    "            \"Observation\":\"Index(['PassengerId', 'Survived', 'Pclass', 'Name', 'Sex', 'Age', 'SibSp', 'Parch', 'Ticket', 'Fare', 'Cabin', 'Embarked', 'Unnamed: 12'], dtype='object')\"\n",
    "        }\n",
    "    ]\n",
    "\n",
    "\n",
    "def agent(query, scratchpad={}, max_request_time=10):\n",
    "    cur_request_imte = 0\n",
    "    finished = 0\n",
    "    while cur_request_imte < max_request_time and finished == 0:\n",
    "        cur_request_imte += 1\n",
    "        obj = invoke(query, scratchpad)\n",
    "        \n",
    "        if obj['Finished'] == 1:\n",
    "            finished = 1\n",
    "            print('Final Answer: ', obj['Answer'])\n",
    "        else:\n",
    "            finished == obj['Finished']\n",
    "            scratchpad = excute(obj, scratchpad)\n",
    "                        \n",
    "def excute(obj, scratchpad):\n",
    "    # 执行代码获得结果\n",
    "    tool = obj['Tool']\n",
    "    tool_input = obj['Tool Input']\n",
    "    observation = tool_map[tool].run(tool_input) \n",
    "    \n",
    "    # 记录scatchpad\n",
    "    thought = obj['Thought']\n",
    "    scratchpad.append({\n",
    "        'Thought':thought,\n",
    "        'Tool': tool,\n",
    "        'Tool Input':tool_input,\n",
    "        'observation':observation\n",
    "    })\n",
    "    \n",
    "    return scratchpad\n",
    "\n",
    "def invoke(query, scratchpad):\n",
    "    prompt = template_substitute('agent', input=query, scratchpad=scratchpad)\n",
    "    # print('INPUT'.center(30, '#'), prompt, sep='\\n')\n",
    "    result = chat_invoke(prompt)\n",
    "    # print('OUTPUT'.center(30, '#'), result, sep='\\n')\n",
    "    return json_loads(result)"
   ]
  },
  {
   "cell_type": "code",
   "execution_count": 68,
   "metadata": {},
   "outputs": [
    {
     "name": "stdout",
     "output_type": "stream",
     "text": [
      "Final Answer:  30岁以上的女性乘客有103名。\n"
     ]
    }
   ],
   "source": [
    "agent('30岁以上女性有几名', scratchpad)"
   ]
  }
 ],
 "metadata": {
  "kernelspec": {
   "display_name": "Python 3",
   "language": "python",
   "name": "py35-paddle1.2.0"
  },
  "language_info": {
   "codemirror_mode": {
    "name": "ipython",
    "version": 3
   },
   "file_extension": ".py",
   "mimetype": "text/x-python",
   "name": "python",
   "nbconvert_exporter": "python",
   "pygments_lexer": "ipython3",
   "version": "3.10.10"
  },
  "orig_nbformat": 4
 },
 "nbformat": 4,
 "nbformat_minor": 2
}
