{
 "cells": [
  {
   "cell_type": "code",
   "execution_count": 1,
   "metadata": {},
   "outputs": [
    {
     "name": "stdout",
     "output_type": "stream",
     "text": [
      "Hello 👋! I'm ChatGLM（智谱清言）, the artificial intelligence assistant, nice to meet you. Feel free to ask me any questions.\n"
     ]
    }
   ],
   "source": [
    "from model import client\n",
    "\n",
    "response = client.chat.completions.create(\n",
    "    model='glm-4-0520',\n",
    "    messages=[{\"role\": \"user\", \"content\": \"hello glm!\"}],\n",
    "    temperature=0.2,\n",
    "    max_tokens=4096,\n",
    "    stream=False\n",
    ")\n",
    "\n",
    "print(response.choices[0].message.content)"
   ]
  },
  {
   "cell_type": "code",
   "execution_count": null,
   "metadata": {},
   "outputs": [],
   "source": [
    "from langchain_experimental.tools.python.tool import PythonAstREPLTool\n",
    "import pandas as pd\n",
    "\n",
    "# python_repl_ast\n",
    "df = pd.read_excel(\"titanic.xlsx\")\n",
    "python_repl_ast = PythonAstREPLTool(locals={'df':df})\n",
    "\n",
    "# 工具描述与字典\n",
    "tools_description = [{\n",
    "    \"type\": \"function\",\n",
    "    \"function\": {\n",
    "        \"name\": \"python_repl_ast\",\n",
    "        \"description\": \"一个Python shell。使用这个工具来执行Python命令。输入应该是一个有效的Python命令。在使用这个工具时，有时候输出会被省略——在使用它回答之前，请确保它看起来没有被省略。\",\n",
    "        \"parameters\": {\n",
    "            \"type\": \"object\",\n",
    "            \"properties\": {\n",
    "                \"tool_input\": {\n",
    "                    \"description\": \"一个有效的Python命令\",\n",
    "                    \"type\": \"str\"\n",
    "                }\n",
    "            },\n",
    "            \"required\": [\n",
    "                \"tool_input\"\n",
    "            ]\n",
    "        }\n",
    "    }\n",
    "}]\n",
    "\n",
    "tools_map = {\n",
    "    \"python_repl_ast\": python_repl_ast\n",
    "}\n",
    "\n",
    "tools = {\n",
    "    \"description\": tools_description,\n",
    "    \"map\": tools_map\n",
    "}"
   ]
  },
  {
   "cell_type": "code",
   "execution_count": 2,
   "metadata": {},
   "outputs": [],
   "source": [
    "from tools import tools_description, tools_map\n",
    "import json\n",
    "\n",
    "def predict(messages):\n",
    "    response = client.chat.completions.create(\n",
    "        model='glm-4-0520',\n",
    "        messages=messages,\n",
    "        temperature=0,\n",
    "        tools = tools_description,\n",
    "    )\n",
    "\n",
    "    return response.choices[0].message.model_dump()"
   ]
  },
  {
   "cell_type": "code",
   "execution_count": 3,
   "metadata": {},
   "outputs": [
    {
     "name": "stdout",
     "output_type": "stream",
     "text": [
      "{'content': '', 'role': 'assistant', 'tool_calls': [{'id': 'call_2024082911361346d843553d984253', 'function': {'arguments': '{\"tool_input\": \"primes = []\\\\nfor num in range(2, 51):\\\\n    is_prime = True\\\\n    for i in range(2, int(num ** 0.5) + 1):\\\\n        if num % i == 0:\\\\n            is_prime = False\\\\n            break\\\\n    if is_prime:\\\\n        primes.append(num)\\\\nprimes\"}', 'name': 'python_repl_ast'}, 'type': 'function', 'index': 0}]}\n"
     ]
    }
   ],
   "source": [
    "prompt = '使用python找出50以内的质数'\n",
    "messages = [{'role':'user', 'content':prompt}]\n",
    "\n",
    "response_messages = predict(messages)\n",
    "print(response_messages)\n",
    "\n",
    "messages.append(response_messages)"
   ]
  },
  {
   "cell_type": "code",
   "execution_count": 4,
   "metadata": {},
   "outputs": [
    {
     "data": {
      "text/plain": [
       "[{'id': 'call_2024082911361346d843553d984253',\n",
       "  'function': {'arguments': '{\"tool_input\": \"primes = []\\\\nfor num in range(2, 51):\\\\n    is_prime = True\\\\n    for i in range(2, int(num ** 0.5) + 1):\\\\n        if num % i == 0:\\\\n            is_prime = False\\\\n            break\\\\n    if is_prime:\\\\n        primes.append(num)\\\\nprimes\"}',\n",
       "   'name': 'python_repl_ast'},\n",
       "  'type': 'function',\n",
       "  'index': 0}]"
      ]
     },
     "execution_count": 4,
     "metadata": {},
     "output_type": "execute_result"
    }
   ],
   "source": [
    "tools_calls_obj = response_messages['tool_calls']\n",
    "tools_calls_obj"
   ]
  },
  {
   "cell_type": "code",
   "execution_count": 5,
   "metadata": {},
   "outputs": [],
   "source": [
    "def func_call(tools_calls_obj):\n",
    "    function_obj = tools_calls_obj[0]['function']\n",
    "\n",
    "    func = tools_map[function_obj['name']]\n",
    "    args = json.loads(function_obj['arguments'])\n",
    "\n",
    "    return json.dumps(func(**args))"
   ]
  },
  {
   "cell_type": "code",
   "execution_count": 6,
   "metadata": {},
   "outputs": [
    {
     "name": "stderr",
     "output_type": "stream",
     "text": [
      "/tmp/ipykernel_17467/1909064332.py:7: LangChainDeprecationWarning: The method `BaseTool.__call__` was deprecated in langchain-core 0.1.47 and will be removed in 1.0. Use invoke instead.\n",
      "  return json.dumps(func(**args))\n"
     ]
    },
    {
     "data": {
      "text/plain": [
       "'[2, 3, 5, 7, 11, 13, 17, 19, 23, 29, 31, 37, 41, 43, 47]'"
      ]
     },
     "execution_count": 6,
     "metadata": {},
     "output_type": "execute_result"
    }
   ],
   "source": [
    "func_call(tools_calls_obj)"
   ]
  },
  {
   "cell_type": "code",
   "execution_count": 7,
   "metadata": {},
   "outputs": [
    {
     "data": {
      "text/plain": [
       "[{'role': 'user', 'content': '使用python找出50以内的质数'},\n",
       " {'content': '',\n",
       "  'role': 'assistant',\n",
       "  'tool_calls': [{'id': 'call_2024082911361346d843553d984253',\n",
       "    'function': {'arguments': '{\"tool_input\": \"primes = []\\\\nfor num in range(2, 51):\\\\n    is_prime = True\\\\n    for i in range(2, int(num ** 0.5) + 1):\\\\n        if num % i == 0:\\\\n            is_prime = False\\\\n            break\\\\n    if is_prime:\\\\n        primes.append(num)\\\\nprimes\"}',\n",
       "     'name': 'python_repl_ast'},\n",
       "    'type': 'function',\n",
       "    'index': 0}]},\n",
       " {'role': 'tool',\n",
       "  'content': '[2, 3, 5, 7, 11, 13, 17, 19, 23, 29, 31, 37, 41, 43, 47]',\n",
       "  'tool_call_id': 'call_2024082911361346d843553d984253'}]"
      ]
     },
     "execution_count": 7,
     "metadata": {},
     "output_type": "execute_result"
    }
   ],
   "source": [
    "messages.append({\n",
    "    \"role\":\"tool\",\n",
    "    \"content\": func_call(tools_calls_obj),\n",
    "    \"tool_call_id\": tools_calls_obj[0][\"id\"]\n",
    "})\n",
    "\n",
    "messages"
   ]
  },
  {
   "cell_type": "code",
   "execution_count": 8,
   "metadata": {},
   "outputs": [
    {
     "data": {
      "text/plain": [
       "{'content': '50以内的质数有：2, 3, 5, 7, 11, 13, 17, 19, 23, 29, 31, 37, 41, 43, 47。',\n",
       " 'role': 'assistant',\n",
       " 'tool_calls': None}"
      ]
     },
     "execution_count": 8,
     "metadata": {},
     "output_type": "execute_result"
    }
   ],
   "source": [
    "predict(messages)"
   ]
  },
  {
   "cell_type": "code",
   "execution_count": 1,
   "metadata": {},
   "outputs": [],
   "source": [
    "from pathlib import Path\n",
    "from string import Template\n",
    "from model import client\n",
    "import json\n",
    "\n",
    "class Agent:\n",
    "    def __init__(self, tools, prompt_template_name=None):\n",
    "        self.messages = []\n",
    "        self.tools_description = tools['description']\n",
    "        self.tools_map = tools['map']\n",
    "\n",
    "        if prompt_template_name:\n",
    "            self.template = Template(Path(f'templates/{prompt_template_name}.txt').read_text())\n",
    "        else:\n",
    "            self.template = None\n",
    "\n",
    "\n",
    "    def prompt_template_format(self, **kwargs):\n",
    "        return self.template.substitute(**kwargs)\n",
    "    \n",
    "    def predict(self, messages):\n",
    "        response = client.chat.completions.create(\n",
    "            model='glm-4-0520',\n",
    "            messages=messages,\n",
    "            temperature=0,\n",
    "            tools = self.tools_description,\n",
    "        )\n",
    "\n",
    "        return response.choices[0].message.model_dump()\n",
    "\n",
    "    def func_call(self, tools_calls_obj):\n",
    "        function_obj = tools_calls_obj[0]['function']\n",
    "\n",
    "        func = self.tools_map[function_obj['name']]\n",
    "        args = json.loads(function_obj['arguments'])\n",
    "\n",
    "        return json.dumps(func(**args))\n",
    "    \n",
    "    def __call__(self, input):\n",
    "\n",
    "        # 如果模板存在，根据模板格式化输入\n",
    "        if self.template:\n",
    "            input = self.prompt_template_format(input=input)\n",
    "\n",
    "        # 第一次调用大模型\n",
    "        self.messages.append({'role': 'user', 'content': input})\n",
    "        response_messages = self.predict(self.messages)\n",
    "        self.messages.append(response_messages)\n",
    "\n",
    "        # 当需要调用函数时，执行func_call，并将返回值添加到message中，再一次调用大模型\n",
    "        while ('tool_calls' in response_messages) and (response_messages['tool_calls'] is not None):\n",
    "            tools_calls_obj = response_messages['tool_calls']\n",
    "            self.messages.append({\n",
    "                \"role\":\"tool\",\n",
    "                \"content\": self.func_call(tools_calls_obj),\n",
    "                \"tool_call_id\": tools_calls_obj[0][\"id\"]\n",
    "            })\n",
    "            response_messages = self.predict(self.messages)\n",
    "\n",
    "        return response_messages['content']"
   ]
  },
  {
   "cell_type": "code",
   "execution_count": 2,
   "metadata": {},
   "outputs": [],
   "source": [
    "from tools import tools\n",
    "\n",
    "agent = Agent(tools)"
   ]
  },
  {
   "cell_type": "code",
   "execution_count": 4,
   "metadata": {},
   "outputs": [
    {
     "name": "stdout",
     "output_type": "stream",
     "text": [
      "小明今年4岁，身高100cm。如果每年的身高增加10cm，那么我们可以通过以下计算过程来得出小明80岁时的身高：\n",
      "\n",
      "1. 小明当前的年龄是4岁。\n",
      "2. 小明当前的身高是100cm。\n",
      "3. 每年身高增加10cm。\n",
      "4. 小明到80岁时，还需要过80 - 4 = 76年。\n",
      "5. 在这76年里，小明的身高将增加76 * 10cm = 760cm。\n",
      "6. 因此，小明80岁时的身高将是初始身高加上这76年的增长，即100cm + 760cm = 860cm。\n",
      "\n",
      "所以，小明80岁时的身高是860cm。\n"
     ]
    }
   ],
   "source": [
    "print(agent('使用python设计程序，回答“小明今年4岁，身高100cm。如果每年的身高增加10cm，那么小明80岁时的身高是多少？”，并解释计算过程'))"
   ]
  }
 ],
 "metadata": {
  "kernelspec": {
   "display_name": "Python 3",
   "language": "python",
   "name": "python3"
  },
  "language_info": {
   "codemirror_mode": {
    "name": "ipython",
    "version": 3
   },
   "file_extension": ".py",
   "mimetype": "text/x-python",
   "name": "python",
   "nbconvert_exporter": "python",
   "pygments_lexer": "ipython3",
   "version": "3.10.14"
  }
 },
 "nbformat": 4,
 "nbformat_minor": 2
}
