{
  "cells": [
    {
      "cell_type": "code",
      "execution_count": 3,
      "metadata": {},
      "outputs": [
        {
          "name": "stdout",
          "output_type": "stream",
          "text": [
            " \n",
            "```json\n",
            "{\n",
            "    \"客户姓名\":\"\",\n",
            "    \"证件号码\":\"320198710010000\",\n",
            "    \"是否客户本人来电\":\"Y\",\n",
            "    \"来电人姓名\":\"\",\n",
            "    \"回复方式\":\"电话\",\n",
            "    \"回复时间\":\"\",\n",
            "    \"回复号码1\":\"\",\n",
            "    \"回复号码2\":\"1300000524\",\n",
            "    \"产品\":\"权益贷\",\n",
            "    \"业务类型\":\"咨询\",\n",
            "    \"地区\":\"未提及具体地区，无法判断\",\n",
            "    \"验证方式\":\"交易类\",\n",
            "    \"受理内容\":\"客户因逾期短信向客服咨询协商还款方案，客服记录客户信息，并告知后台人员核实后回复。\",\n",
            "    \"紧急程度\":\"一般\",\n",
            "    \"处理期限\":\"3个工作日\",\n",
            "    \"贷款相关信息\":\"产品名称：权益贷，相关金额：未提及，时间：未提及\",\n",
            "    \"产品额度信息\":\"产品名称：未提及，相关金额：未提及，时间：未提及\"\n",
            "}\n",
            "```\n"
          ]
        }
      ],
      "source": [
        "from utils import chat_invoke\n",
        "from utils import template_substitute\n",
        "from pathlib import Path\n",
        "\n",
        "input = Path('data/call_record.txt').read_text()\n",
        "prompt = template_substitute('extractor', input=input)\n",
        "result = chat_invoke(prompt)\n",
        "print(result)"
      ]
    },
    {
      "cell_type": "code",
      "execution_count": 4,
      "metadata": {},
      "outputs": [
        {
          "data": {
            "text/plain": [
              "'320198710010000'"
            ]
          },
          "execution_count": 4,
          "metadata": {},
          "output_type": "execute_result"
        }
      ],
      "source": [
        "from utils import json_loads\n",
        "\n",
        "object = json_loads(result)\n",
        "object['证件号码']"
      ]
    }
  ],
  "metadata": {
    "kernelspec": {
      "display_name": "Python 3",
      "language": "python",
      "name": "py35-paddle1.2.0"
    },
    "language_info": {
      "codemirror_mode": {
        "name": "ipython",
        "version": 3
      },
      "file_extension": ".py",
      "mimetype": "text/x-python",
      "name": "python",
      "nbconvert_exporter": "python",
      "pygments_lexer": "ipython3",
      "version": "3.10.10"
    }
  },
  "nbformat": 4,
  "nbformat_minor": 1
}
